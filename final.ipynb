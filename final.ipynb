{
  "cells": [
    {
      "cell_type": "code",
      "execution_count": 2,
      "metadata": {
        "id": "BX47WTsjB2KK"
      },
      "outputs": [],
      "source": [
        "import cv2\n",
        "import numpy as np\n",
        "import pandas as pd\n",
        "from skimage.feature import graycomatrix, graycoprops\n",
        "from sklearn.model_selection import train_test_split\n",
        "import tensorflow as tf\n",
        "from keras.models import Sequential\n",
        "from keras.layers import Dense"
      ]
    },
    {
      "cell_type": "code",
      "execution_count": 3,
      "metadata": {},
      "outputs": [],
      "source": [
        "from pathlib import Path\n",
        "PATH = Path().parent\n",
        "DDIR = PATH / 'datasets'\n",
        "TEST = PATH / 'tests'"
      ]
    },
    {
      "cell_type": "code",
      "execution_count": null,
      "metadata": {},
      "outputs": [],
      "source": []
    },
    {
      "cell_type": "code",
      "execution_count": 5,
      "metadata": {
        "colab": {
          "base_uri": "https://localhost:8080/"
        },
        "id": "dCXPnIYZLSe2",
        "outputId": "827de298-afc4-402f-87f7-ca0561630e2f"
      },
      "outputs": [
        {
          "name": "stderr",
          "output_type": "stream",
          "text": [
            "100%|██████████| 1463/1463 [00:01<00:00, 831.44it/s] \n",
            "100%|██████████| 1537/1537 [00:02<00:00, 766.26it/s]\n"
          ]
        }
      ],
      "source": [
        "# from google.colab import drive\n",
        "# drive.mount('/content/drive')\n",
        "\n",
        "import os\n",
        "from tqdm import tqdm\n",
        "# img_dir = \"/content/drive/MyDrive/Colab Notebooks/Final\"\n",
        "img_dir = DDIR\n",
        "subfolders = [\"happy\", \"sad\"]\n",
        "images = []\n",
        "labels = []\n",
        "\n",
        "\n",
        "\n",
        "counter = 0\n",
        "subfolder_path = os.path.join(img_dir, \"sad\")\n",
        "for file_name in tqdm(os.listdir(subfolder_path)):\n",
        "    # if counter == 500:\n",
        "    #   break\n",
        "    file_path = os.path.join(subfolder_path, file_name)\n",
        "    image = cv2.imread(file_path, cv2.IMREAD_GRAYSCALE)\n",
        "    images.append(image)\n",
        "    label = \"sad\"\n",
        "    labels.append(label)\n",
        "    # counter += 1\n",
        "\n",
        "counter = 0\n",
        "subfolder_path = os.path.join(img_dir, \"happy\")\n",
        "for file_name in tqdm(os.listdir(subfolder_path)):\n",
        "    # if counter == 500:\n",
        "    #   break\n",
        "    file_path = os.path.join(subfolder_path, file_name)\n",
        "    image = cv2.imread(file_path, cv2.IMREAD_GRAYSCALE)\n",
        "    images.append(image)\n",
        "    label = \"happy\"\n",
        "    labels.append(label)\n",
        "    # counter += 1"
      ]
    },
    {
      "cell_type": "code",
      "execution_count": 4,
      "metadata": {
        "id": "TBiaXbxnHEln"
      },
      "outputs": [],
      "source": [
        "# data terkutuk\n",
        "# for i in range(60,71):\n",
        "#   images.pop(i)\n",
        "#   labels.pop(i)"
      ]
    },
    {
      "cell_type": "code",
      "execution_count": 6,
      "metadata": {
        "id": "mOiCz2r9J-HL"
      },
      "outputs": [],
      "source": [
        "def glcm_feature(image, props, dists=[1], agls=[0, np.pi/4, np.pi/2, 3*np.pi/4, np.pi], lvl=256, sym=True, norm=True):\n",
        "    glcm = graycomatrix(image, distances=dists, angles=agls, levels=lvl,symmetric=sym, normed=norm)\n",
        "    feature = []\n",
        "    glcm_props = []\n",
        "    for prop in props:\n",
        "          for x in graycoprops(glcm, prop)[0]:\n",
        "                glcm_props.append(x)\n",
        "    for item in glcm_props:\n",
        "            feature.append(item)\n",
        "\n",
        "    return feature"
      ]
    },
    {
      "cell_type": "code",
      "execution_count": 7,
      "metadata": {
        "colab": {
          "base_uri": "https://localhost:8080/"
        },
        "id": "mb-qxVNXKObf",
        "outputId": "e394dca3-0de4-4d81-c3cb-46680a8f4a4a"
      },
      "outputs": [
        {
          "name": "stderr",
          "output_type": "stream",
          "text": [
            " 32%|███▏      | 969/3000 [00:59<02:16, 14.89it/s]"
          ]
        },
        {
          "name": "stdout",
          "output_type": "stream",
          "text": [
            "966\n"
          ]
        },
        {
          "name": "stderr",
          "output_type": "stream",
          "text": [
            " 81%|████████  | 2419/3000 [02:34<00:27, 20.84it/s]"
          ]
        },
        {
          "name": "stdout",
          "output_type": "stream",
          "text": [
            "2416\n"
          ]
        },
        {
          "name": "stderr",
          "output_type": "stream",
          "text": [
            "100%|██████████| 3000/3000 [03:11<00:00, 15.68it/s]\n"
          ]
        },
        {
          "data": {
            "text/plain": [
              "(2998, 30)"
            ]
          },
          "execution_count": 7,
          "metadata": {},
          "output_type": "execute_result"
        }
      ],
      "source": [
        "properties = ['dissimilarity', 'correlation', 'homogeneity', 'contrast', 'ASM', 'energy']\n",
        "fitur_glcm = []\n",
        "\n",
        "counter = 0\n",
        "for i in tqdm(range(len(images))):\n",
        "    try:\n",
        "      fitur_glcm.append(glcm_feature(images[i], props=properties))\n",
        "    except:\n",
        "      labels.pop(counter)\n",
        "      print(counter)\n",
        "      pass\n",
        "    counter += 1\n",
        "\n",
        "kolom = []\n",
        "sudut = ['0', '45', '90','135', '180']\n",
        "for prop in properties:\n",
        "    for x in sudut:\n",
        "        kolom.append(prop + \"_\" + x)\n",
        "\n",
        "glcm_df = pd.DataFrame(fitur_glcm, columns=kolom)\n",
        "pd.set_option('display.max_columns', None)\n",
        "glcm_df.shape"
      ]
    },
    {
      "cell_type": "code",
      "execution_count": 8,
      "metadata": {
        "colab": {
          "base_uri": "https://localhost:8080/"
        },
        "id": "8jw1VFyTP_wu",
        "outputId": "625c6fb1-2ba8-4aff-d495-ccadfb2d573f"
      },
      "outputs": [
        {
          "data": {
            "text/plain": [
              "array([0, 0, 0, ..., 1, 1, 1])"
            ]
          },
          "execution_count": 8,
          "metadata": {},
          "output_type": "execute_result"
        }
      ],
      "source": [
        "mapping = {\"happy\": 1, \"sad\": 0}\n",
        "label_converted = []\n",
        "\n",
        "counter = 0\n",
        "for label in labels:\n",
        "    converted_label = mapping[label]\n",
        "    label_converted.append(converted_label)\n",
        "    counter += 1\n",
        "\n",
        "label_numpy = np.array(label_converted)\n",
        "label_numpy"
      ]
    },
    {
      "cell_type": "code",
      "execution_count": 9,
      "metadata": {},
      "outputs": [
        {
          "data": {
            "text/plain": [
              "2998"
            ]
          },
          "execution_count": 9,
          "metadata": {},
          "output_type": "execute_result"
        }
      ],
      "source": [
        "len(label_numpy)"
      ]
    },
    {
      "cell_type": "code",
      "execution_count": 10,
      "metadata": {
        "colab": {
          "base_uri": "https://localhost:8080/"
        },
        "id": "bZ1VevUsQCUW",
        "outputId": "bccc0583-3ebd-49b2-c7bf-0aaa54bd0ed8"
      },
      "outputs": [
        {
          "data": {
            "text/plain": [
              "array([[8.00398936e+00, 1.22548665e+01, 1.00598404e+01, ...,\n",
              "        2.36554327e-02, 2.24460223e-02, 2.48187370e-02],\n",
              "       [1.47628546e+01, 2.13431417e+01, 1.48071809e+01, ...,\n",
              "        2.14077848e-02, 1.89483472e-02, 2.01526027e-02],\n",
              "       [1.23129433e+01, 1.52756904e+01, 8.52881206e+00, ...,\n",
              "        2.87352358e-02, 2.44076968e-02, 2.70026497e-02],\n",
              "       ...,\n",
              "       [1.67256206e+01, 1.90004527e+01, 1.20124113e+01, ...,\n",
              "        2.20364287e-02, 1.94183889e-02, 1.95513397e-02],\n",
              "       [1.16533688e+01, 1.38945224e+01, 9.76950355e+00, ...,\n",
              "        2.29984429e-02, 2.12042344e-02, 2.26866362e-02],\n",
              "       [1.93484043e+01, 2.62906292e+01, 1.88018617e+01, ...,\n",
              "        2.21165290e-02, 2.11437440e-02, 2.21874866e-02]])"
            ]
          },
          "execution_count": 10,
          "metadata": {},
          "output_type": "execute_result"
        }
      ],
      "source": [
        "fitur_numpy_array = glcm_df.to_numpy()\n",
        "fitur_numpy_array"
      ]
    },
    {
      "cell_type": "code",
      "execution_count": 11,
      "metadata": {
        "id": "Kfx5dbA3QEPe"
      },
      "outputs": [],
      "source": [
        "X_train, X_test, y_train, y_test = train_test_split(fitur_numpy_array, label_numpy, train_size=0.8, random_state=42)"
      ]
    },
    {
      "cell_type": "code",
      "execution_count": 12,
      "metadata": {
        "colab": {
          "base_uri": "https://localhost:8080/"
        },
        "id": "SK524RlHWZIL",
        "outputId": "8ec1a9b5-a458-4837-fc51-832e318a001e"
      },
      "outputs": [
        {
          "data": {
            "text/plain": [
              "(2398, 30)"
            ]
          },
          "execution_count": 12,
          "metadata": {},
          "output_type": "execute_result"
        }
      ],
      "source": [
        "X_train.shape"
      ]
    },
    {
      "cell_type": "code",
      "execution_count": 16,
      "metadata": {},
      "outputs": [],
      "source": [
        "import tensorflow as tf\n",
        "from tensorflow import keras\n",
        "# from tensorflow.keras import layers\n",
        "# import keras_tuner as kt\n",
        "import keras"
      ]
    },
    {
      "cell_type": "code",
      "execution_count": 89,
      "metadata": {
        "id": "5xiDeIPdQF9l"
      },
      "outputs": [],
      "source": [
        "ann = Sequential()\n",
        "ann.add(\n",
        "    # Dense(units=30, activation=\"linear\", input_shape=(X_train.shape[1],))\n",
        "    Dense(units=30, activation=\"sigmoid\", input_shape=(None, 2398, 30))\n",
        ")\n",
        "ann.add(\n",
        "    Dense(units=256, activation=\"linear\")\n",
        ")\n",
        "ann.add(\n",
        "    Dense(units=1, activation=\"sigmoid\")\n",
        ")"
      ]
    },
    {
      "cell_type": "code",
      "execution_count": 90,
      "metadata": {},
      "outputs": [
        {
          "name": "stdout",
          "output_type": "stream",
          "text": [
            "Model: \"sequential_3\"\n",
            "_________________________________________________________________\n",
            " Layer (type)                Output Shape              Param #   \n",
            "=================================================================\n",
            " dense_11 (Dense)            (None, None, 2398, 30)    930       \n",
            "                                                                 \n",
            " dense_12 (Dense)            (None, None, 2398, 256)   7936      \n",
            "                                                                 \n",
            " dense_13 (Dense)            (None, None, 2398, 1)     257       \n",
            "                                                                 \n",
            "=================================================================\n",
            "Total params: 9,123\n",
            "Trainable params: 9,123\n",
            "Non-trainable params: 0\n",
            "_________________________________________________________________\n"
          ]
        }
      ],
      "source": [
        "ann.summary()"
      ]
    },
    {
      "cell_type": "code",
      "execution_count": 91,
      "metadata": {
        "id": "Q8-uqVluQQTZ"
      },
      "outputs": [],
      "source": [
        "ann.compile(optimizer =\"adam\", loss = 'binary_crossentropy', metrics = ['accuracy'])"
      ]
    },
    {
      "cell_type": "code",
      "execution_count": 92,
      "metadata": {
        "colab": {
          "base_uri": "https://localhost:8080/"
        },
        "id": "Kyhwt2boQR6C",
        "outputId": "46c2e3f9-af6e-4967-d8d3-c2f095689412"
      },
      "outputs": [
        {
          "name": "stdout",
          "output_type": "stream",
          "text": [
            "Epoch 1/100\n",
            "240/240 - 1s - loss: 0.7072 - accuracy: 0.5117 - 1s/epoch - 5ms/step\n",
            "Epoch 2/100\n",
            "240/240 - 0s - loss: 0.6968 - accuracy: 0.5338 - 313ms/epoch - 1ms/step\n",
            "Epoch 3/100\n",
            "240/240 - 0s - loss: 0.7016 - accuracy: 0.4950 - 322ms/epoch - 1ms/step\n",
            "Epoch 4/100\n",
            "240/240 - 0s - loss: 0.6986 - accuracy: 0.5250 - 410ms/epoch - 2ms/step\n",
            "Epoch 5/100\n",
            "240/240 - 0s - loss: 0.6943 - accuracy: 0.5321 - 312ms/epoch - 1ms/step\n",
            "Epoch 6/100\n",
            "240/240 - 0s - loss: 0.6915 - accuracy: 0.5413 - 336ms/epoch - 1ms/step\n",
            "Epoch 7/100\n",
            "240/240 - 0s - loss: 0.6977 - accuracy: 0.5183 - 356ms/epoch - 1ms/step\n",
            "Epoch 8/100\n",
            "240/240 - 0s - loss: 0.6929 - accuracy: 0.5292 - 348ms/epoch - 1ms/step\n",
            "Epoch 9/100\n",
            "240/240 - 0s - loss: 0.6919 - accuracy: 0.5213 - 303ms/epoch - 1ms/step\n",
            "Epoch 10/100\n",
            "240/240 - 0s - loss: 0.7010 - accuracy: 0.5033 - 256ms/epoch - 1ms/step\n",
            "Epoch 11/100\n",
            "240/240 - 0s - loss: 0.6957 - accuracy: 0.5133 - 268ms/epoch - 1ms/step\n",
            "Epoch 12/100\n",
            "240/240 - 0s - loss: 0.6871 - accuracy: 0.5500 - 265ms/epoch - 1ms/step\n",
            "Epoch 13/100\n",
            "240/240 - 0s - loss: 0.6874 - accuracy: 0.5596 - 269ms/epoch - 1ms/step\n",
            "Epoch 14/100\n",
            "240/240 - 0s - loss: 0.6929 - accuracy: 0.5288 - 279ms/epoch - 1ms/step\n",
            "Epoch 15/100\n",
            "240/240 - 0s - loss: 0.6913 - accuracy: 0.5425 - 251ms/epoch - 1ms/step\n",
            "Epoch 16/100\n",
            "240/240 - 0s - loss: 0.6901 - accuracy: 0.5409 - 254ms/epoch - 1ms/step\n",
            "Epoch 17/100\n",
            "240/240 - 0s - loss: 0.6929 - accuracy: 0.5259 - 300ms/epoch - 1ms/step\n",
            "Epoch 18/100\n",
            "240/240 - 0s - loss: 0.6915 - accuracy: 0.5338 - 417ms/epoch - 2ms/step\n",
            "Epoch 19/100\n",
            "240/240 - 0s - loss: 0.6918 - accuracy: 0.5317 - 389ms/epoch - 2ms/step\n",
            "Epoch 20/100\n",
            "240/240 - 0s - loss: 0.6904 - accuracy: 0.5284 - 382ms/epoch - 2ms/step\n",
            "Epoch 21/100\n",
            "240/240 - 0s - loss: 0.6889 - accuracy: 0.5471 - 359ms/epoch - 1ms/step\n",
            "Epoch 22/100\n",
            "240/240 - 0s - loss: 0.6927 - accuracy: 0.5346 - 345ms/epoch - 1ms/step\n",
            "Epoch 23/100\n",
            "240/240 - 0s - loss: 0.6917 - accuracy: 0.5371 - 321ms/epoch - 1ms/step\n",
            "Epoch 24/100\n",
            "240/240 - 0s - loss: 0.6912 - accuracy: 0.5425 - 349ms/epoch - 1ms/step\n",
            "Epoch 25/100\n",
            "240/240 - 0s - loss: 0.6904 - accuracy: 0.5413 - 332ms/epoch - 1ms/step\n",
            "Epoch 26/100\n",
            "240/240 - 0s - loss: 0.6957 - accuracy: 0.5033 - 267ms/epoch - 1ms/step\n",
            "Epoch 27/100\n",
            "240/240 - 0s - loss: 0.6917 - accuracy: 0.5279 - 317ms/epoch - 1ms/step\n",
            "Epoch 28/100\n",
            "240/240 - 0s - loss: 0.6926 - accuracy: 0.5179 - 252ms/epoch - 1ms/step\n",
            "Epoch 29/100\n",
            "240/240 - 0s - loss: 0.6921 - accuracy: 0.5259 - 279ms/epoch - 1ms/step\n",
            "Epoch 30/100\n",
            "240/240 - 0s - loss: 0.6956 - accuracy: 0.5125 - 287ms/epoch - 1ms/step\n",
            "Epoch 31/100\n",
            "240/240 - 0s - loss: 0.6934 - accuracy: 0.5150 - 266ms/epoch - 1ms/step\n",
            "Epoch 32/100\n",
            "240/240 - 0s - loss: 0.6915 - accuracy: 0.5183 - 253ms/epoch - 1ms/step\n",
            "Epoch 33/100\n",
            "240/240 - 0s - loss: 0.6908 - accuracy: 0.5400 - 267ms/epoch - 1ms/step\n",
            "Epoch 34/100\n",
            "240/240 - 0s - loss: 0.6917 - accuracy: 0.5296 - 300ms/epoch - 1ms/step\n",
            "Epoch 35/100\n",
            "240/240 - 0s - loss: 0.6936 - accuracy: 0.5363 - 311ms/epoch - 1ms/step\n",
            "Epoch 36/100\n",
            "240/240 - 0s - loss: 0.6915 - accuracy: 0.5484 - 317ms/epoch - 1ms/step\n",
            "Epoch 37/100\n",
            "240/240 - 0s - loss: 0.6913 - accuracy: 0.5350 - 307ms/epoch - 1ms/step\n",
            "Epoch 38/100\n",
            "240/240 - 0s - loss: 0.6877 - accuracy: 0.5459 - 276ms/epoch - 1ms/step\n",
            "Epoch 39/100\n",
            "240/240 - 0s - loss: 0.6940 - accuracy: 0.5146 - 310ms/epoch - 1ms/step\n",
            "Epoch 40/100\n",
            "240/240 - 0s - loss: 0.6898 - accuracy: 0.5367 - 302ms/epoch - 1ms/step\n",
            "Epoch 41/100\n",
            "240/240 - 0s - loss: 0.6918 - accuracy: 0.5313 - 288ms/epoch - 1ms/step\n",
            "Epoch 42/100\n",
            "240/240 - 0s - loss: 0.6899 - accuracy: 0.5434 - 296ms/epoch - 1ms/step\n",
            "Epoch 43/100\n",
            "240/240 - 0s - loss: 0.6924 - accuracy: 0.5142 - 282ms/epoch - 1ms/step\n",
            "Epoch 44/100\n",
            "240/240 - 0s - loss: 0.6926 - accuracy: 0.5129 - 306ms/epoch - 1ms/step\n",
            "Epoch 45/100\n",
            "240/240 - 0s - loss: 0.6902 - accuracy: 0.5313 - 318ms/epoch - 1ms/step\n",
            "Epoch 46/100\n",
            "240/240 - 0s - loss: 0.6891 - accuracy: 0.5442 - 319ms/epoch - 1ms/step\n",
            "Epoch 47/100\n",
            "240/240 - 0s - loss: 0.6900 - accuracy: 0.5434 - 299ms/epoch - 1ms/step\n",
            "Epoch 48/100\n",
            "240/240 - 0s - loss: 0.6932 - accuracy: 0.5313 - 311ms/epoch - 1ms/step\n",
            "Epoch 49/100\n",
            "240/240 - 0s - loss: 0.6926 - accuracy: 0.5279 - 314ms/epoch - 1ms/step\n",
            "Epoch 50/100\n",
            "240/240 - 0s - loss: 0.6896 - accuracy: 0.5388 - 323ms/epoch - 1ms/step\n",
            "Epoch 51/100\n",
            "240/240 - 0s - loss: 0.6919 - accuracy: 0.5225 - 321ms/epoch - 1ms/step\n",
            "Epoch 52/100\n",
            "240/240 - 0s - loss: 0.6929 - accuracy: 0.5334 - 316ms/epoch - 1ms/step\n",
            "Epoch 53/100\n",
            "240/240 - 0s - loss: 0.6934 - accuracy: 0.5217 - 296ms/epoch - 1ms/step\n",
            "Epoch 54/100\n",
            "240/240 - 0s - loss: 0.6903 - accuracy: 0.5434 - 327ms/epoch - 1ms/step\n",
            "Epoch 55/100\n",
            "240/240 - 0s - loss: 0.6908 - accuracy: 0.5392 - 329ms/epoch - 1ms/step\n",
            "Epoch 56/100\n",
            "240/240 - 0s - loss: 0.6935 - accuracy: 0.5329 - 315ms/epoch - 1ms/step\n",
            "Epoch 57/100\n",
            "240/240 - 0s - loss: 0.6951 - accuracy: 0.5021 - 308ms/epoch - 1ms/step\n",
            "Epoch 58/100\n",
            "240/240 - 0s - loss: 0.6916 - accuracy: 0.5346 - 313ms/epoch - 1ms/step\n",
            "Epoch 59/100\n",
            "240/240 - 0s - loss: 0.6895 - accuracy: 0.5463 - 293ms/epoch - 1ms/step\n",
            "Epoch 60/100\n",
            "240/240 - 0s - loss: 0.6901 - accuracy: 0.5442 - 308ms/epoch - 1ms/step\n",
            "Epoch 61/100\n",
            "240/240 - 0s - loss: 0.6888 - accuracy: 0.5471 - 295ms/epoch - 1ms/step\n",
            "Epoch 62/100\n",
            "240/240 - 0s - loss: 0.6919 - accuracy: 0.5334 - 310ms/epoch - 1ms/step\n",
            "Epoch 63/100\n",
            "240/240 - 0s - loss: 0.6910 - accuracy: 0.5375 - 301ms/epoch - 1ms/step\n",
            "Epoch 64/100\n",
            "240/240 - 0s - loss: 0.6906 - accuracy: 0.5363 - 294ms/epoch - 1ms/step\n",
            "Epoch 65/100\n",
            "240/240 - 0s - loss: 0.6895 - accuracy: 0.5367 - 295ms/epoch - 1ms/step\n",
            "Epoch 66/100\n",
            "240/240 - 0s - loss: 0.6898 - accuracy: 0.5325 - 296ms/epoch - 1ms/step\n",
            "Epoch 67/100\n",
            "240/240 - 0s - loss: 0.6908 - accuracy: 0.5400 - 287ms/epoch - 1ms/step\n",
            "Epoch 68/100\n",
            "240/240 - 0s - loss: 0.6896 - accuracy: 0.5409 - 292ms/epoch - 1ms/step\n",
            "Epoch 69/100\n",
            "240/240 - 0s - loss: 0.6905 - accuracy: 0.5288 - 300ms/epoch - 1ms/step\n",
            "Epoch 70/100\n",
            "240/240 - 0s - loss: 0.6919 - accuracy: 0.5209 - 295ms/epoch - 1ms/step\n",
            "Epoch 71/100\n",
            "240/240 - 0s - loss: 0.6910 - accuracy: 0.5296 - 310ms/epoch - 1ms/step\n",
            "Epoch 72/100\n",
            "240/240 - 0s - loss: 0.6899 - accuracy: 0.5367 - 321ms/epoch - 1ms/step\n",
            "Epoch 73/100\n",
            "240/240 - 0s - loss: 0.6932 - accuracy: 0.5254 - 312ms/epoch - 1ms/step\n",
            "Epoch 74/100\n",
            "240/240 - 0s - loss: 0.6907 - accuracy: 0.5213 - 292ms/epoch - 1ms/step\n",
            "Epoch 75/100\n",
            "240/240 - 0s - loss: 0.6890 - accuracy: 0.5492 - 316ms/epoch - 1ms/step\n",
            "Epoch 76/100\n",
            "240/240 - 0s - loss: 0.6901 - accuracy: 0.5459 - 323ms/epoch - 1ms/step\n",
            "Epoch 77/100\n",
            "240/240 - 0s - loss: 0.6891 - accuracy: 0.5400 - 316ms/epoch - 1ms/step\n",
            "Epoch 78/100\n",
            "240/240 - 0s - loss: 0.6894 - accuracy: 0.5550 - 313ms/epoch - 1ms/step\n",
            "Epoch 79/100\n",
            "240/240 - 0s - loss: 0.6902 - accuracy: 0.5455 - 299ms/epoch - 1ms/step\n",
            "Epoch 80/100\n",
            "240/240 - 0s - loss: 0.6876 - accuracy: 0.5442 - 300ms/epoch - 1ms/step\n",
            "Epoch 81/100\n",
            "240/240 - 0s - loss: 0.6924 - accuracy: 0.5225 - 309ms/epoch - 1ms/step\n",
            "Epoch 82/100\n",
            "240/240 - 0s - loss: 0.6931 - accuracy: 0.5183 - 344ms/epoch - 1ms/step\n",
            "Epoch 83/100\n",
            "240/240 - 0s - loss: 0.6926 - accuracy: 0.5217 - 291ms/epoch - 1ms/step\n",
            "Epoch 84/100\n",
            "240/240 - 0s - loss: 0.6938 - accuracy: 0.5183 - 310ms/epoch - 1ms/step\n",
            "Epoch 85/100\n",
            "240/240 - 0s - loss: 0.6943 - accuracy: 0.5234 - 316ms/epoch - 1ms/step\n",
            "Epoch 86/100\n",
            "240/240 - 0s - loss: 0.6934 - accuracy: 0.5154 - 318ms/epoch - 1ms/step\n",
            "Epoch 87/100\n",
            "240/240 - 0s - loss: 0.6917 - accuracy: 0.5225 - 317ms/epoch - 1ms/step\n",
            "Epoch 88/100\n",
            "240/240 - 0s - loss: 0.6907 - accuracy: 0.5304 - 314ms/epoch - 1ms/step\n",
            "Epoch 89/100\n",
            "240/240 - 0s - loss: 0.6911 - accuracy: 0.5334 - 325ms/epoch - 1ms/step\n",
            "Epoch 90/100\n",
            "240/240 - 0s - loss: 0.6900 - accuracy: 0.5392 - 306ms/epoch - 1ms/step\n",
            "Epoch 91/100\n",
            "240/240 - 0s - loss: 0.6888 - accuracy: 0.5279 - 335ms/epoch - 1ms/step\n",
            "Epoch 92/100\n",
            "240/240 - 0s - loss: 0.6902 - accuracy: 0.5342 - 307ms/epoch - 1ms/step\n",
            "Epoch 93/100\n",
            "240/240 - 0s - loss: 0.6908 - accuracy: 0.5396 - 326ms/epoch - 1ms/step\n",
            "Epoch 94/100\n",
            "240/240 - 0s - loss: 0.6918 - accuracy: 0.5350 - 307ms/epoch - 1ms/step\n",
            "Epoch 95/100\n",
            "240/240 - 0s - loss: 0.6909 - accuracy: 0.5446 - 342ms/epoch - 1ms/step\n",
            "Epoch 96/100\n",
            "240/240 - 0s - loss: 0.6915 - accuracy: 0.5317 - 323ms/epoch - 1ms/step\n",
            "Epoch 97/100\n",
            "240/240 - 0s - loss: 0.6917 - accuracy: 0.5296 - 352ms/epoch - 1ms/step\n",
            "Epoch 98/100\n",
            "240/240 - 0s - loss: 0.6917 - accuracy: 0.5192 - 296ms/epoch - 1ms/step\n",
            "Epoch 99/100\n",
            "240/240 - 0s - loss: 0.6881 - accuracy: 0.5359 - 278ms/epoch - 1ms/step\n",
            "Epoch 100/100\n",
            "240/240 - 0s - loss: 0.6894 - accuracy: 0.5342 - 355ms/epoch - 1ms/step\n"
          ]
        },
        {
          "data": {
            "text/plain": [
              "<keras.callbacks.History at 0x1d9dca29f50>"
            ]
          },
          "execution_count": 92,
          "metadata": {},
          "output_type": "execute_result"
        }
      ],
      "source": [
        "ann.fit(X_train, y_train, epochs=100, batch_size=10, shuffle=True, verbose=2)"
      ]
    },
    {
      "cell_type": "code",
      "execution_count": 93,
      "metadata": {
        "colab": {
          "base_uri": "https://localhost:8080/"
        },
        "id": "WZe6V8icQTPF",
        "outputId": "b00d34cd-8a85-42d6-c859-3f89fb293cb1"
      },
      "outputs": [
        {
          "name": "stdout",
          "output_type": "stream",
          "text": [
            "19/19 [==============================] - 0s 2ms/step - loss: 0.6967 - accuracy: 0.5183\n",
            "Model accuracy: 51.83\n"
          ]
        }
      ],
      "source": [
        "_, accuracy = ann.evaluate(X_test, y_test)\n",
        "print(\"Model accuracy: %.2f\"% (accuracy*100))"
      ]
    },
    {
      "cell_type": "code",
      "execution_count": 94,
      "metadata": {},
      "outputs": [
        {
          "data": {
            "text/plain": [
              "array([1.63506206e+01, 2.41077411e+01, 1.82859043e+01, 2.39284744e+01,\n",
              "       1.63506206e+01, 8.88646607e-01, 7.96902891e-01, 8.82278508e-01,\n",
              "       8.03617392e-01, 8.88646607e-01, 9.00877501e-02, 5.71529268e-02,\n",
              "       7.88082468e-02, 6.39650164e-02, 9.00877501e-02, 6.47005762e+02,\n",
              "       1.18329923e+03, 6.87742465e+02, 1.14285016e+03, 6.47005762e+02,\n",
              "       3.29892548e-04, 2.96740709e-04, 3.13682819e-04, 2.99917146e-04,\n",
              "       3.29892548e-04, 1.81629444e-02, 1.72261635e-02, 1.77110931e-02,\n",
              "       1.73181161e-02, 1.81629444e-02])"
            ]
          },
          "execution_count": 94,
          "metadata": {},
          "output_type": "execute_result"
        }
      ],
      "source": [
        "X_train[0]"
      ]
    },
    {
      "cell_type": "code",
      "execution_count": 93,
      "metadata": {},
      "outputs": [],
      "source": [
        "# def build_model(hp):\n",
        "#     ann = Sequential()\n",
        "#     ann.add(\n",
        "#         Dense(units=30, activation=\"linear\", input_shape=(X_train.shape[1],))\n",
        "#     )\n",
        "#     ann.add(\n",
        "#         Dense(units=60, activation=\"linear\")\n",
        "#     )\n",
        "#     ann.add(\n",
        "#         Dense(units=256, activation=\"linear\")\n",
        "#     )\n",
        "#     ann.add(\n",
        "#         Dense(units=1, activation=\"sigmoid\")\n",
        "#     )\n",
        "#     ann.compile(optimizer='adam', loss='categorical_crossentropy', metrics=['accuracy'])\n",
        "#     # ann.fit(X_train, y_train, epochs=20, batch_size=10)\n",
        "#     return ann"
      ]
    },
    {
      "cell_type": "code",
      "execution_count": 94,
      "metadata": {},
      "outputs": [],
      "source": [
        "# tuner = kt.RandomSearch(hypermodel=build_model,\n",
        "#                      objective='val_accuracy',\n",
        "#                      seed=42,\n",
        "#                      overwrite=True,\n",
        "#                      directory=PATH / 'tuning')"
      ]
    },
    {
      "cell_type": "code",
      "execution_count": 95,
      "metadata": {},
      "outputs": [
        {
          "name": "stdout",
          "output_type": "stream",
          "text": [
            "Trial 1 Complete [00h 00m 01s]\n",
            "val_accuracy: 0.4645833373069763\n",
            "\n",
            "Best val_accuracy So Far: 0.4645833373069763\n",
            "Total elapsed time: 00h 00m 01s\n",
            "INFO:tensorflow:Oracle triggered exit\n"
          ]
        }
      ],
      "source": [
        "# tuner.search(x=X_train,\n",
        "#              y=y_train,\n",
        "#              validation_split=0.2,\n",
        "#             #  callbacks=[keras.callbacks.EarlyStopping(monitor='val_loss', patience=5)], \n",
        "#             #  epochs=30         \n",
        "#             )"
      ]
    },
    {
      "cell_type": "code",
      "execution_count": 20,
      "metadata": {},
      "outputs": [
        {
          "ename": "IndexError",
          "evalue": "list index out of range",
          "output_type": "error",
          "traceback": [
            "\u001b[1;31m---------------------------------------------------------------------------\u001b[0m",
            "\u001b[1;31mIndexError\u001b[0m                                Traceback (most recent call last)",
            "\u001b[1;32m~\\AppData\\Local\\Temp/ipykernel_17504/2773913186.py\u001b[0m in \u001b[0;36m<module>\u001b[1;34m\u001b[0m\n\u001b[1;32m----> 1\u001b[1;33m \u001b[0mbest_hp\u001b[0m \u001b[1;33m=\u001b[0m \u001b[0mtuner\u001b[0m\u001b[1;33m.\u001b[0m\u001b[0mget_best_hyperparameters\u001b[0m\u001b[1;33m(\u001b[0m\u001b[1;33m)\u001b[0m\u001b[1;33m[\u001b[0m\u001b[1;36m0\u001b[0m\u001b[1;33m]\u001b[0m\u001b[1;33m\u001b[0m\u001b[1;33m\u001b[0m\u001b[0m\n\u001b[0m\u001b[0;32m      2\u001b[0m \u001b[0mfinal_model\u001b[0m \u001b[1;33m=\u001b[0m \u001b[0mtuner\u001b[0m\u001b[1;33m.\u001b[0m\u001b[0mhypermodel\u001b[0m\u001b[1;33m.\u001b[0m\u001b[0mbuild\u001b[0m\u001b[1;33m(\u001b[0m\u001b[0mbest_hp\u001b[0m\u001b[1;33m)\u001b[0m\u001b[1;33m\u001b[0m\u001b[1;33m\u001b[0m\u001b[0m\n\u001b[0;32m      3\u001b[0m \u001b[1;33m\u001b[0m\u001b[0m\n\u001b[0;32m      4\u001b[0m final_model_history = final_model.fit(x=X_train,\n\u001b[0;32m      5\u001b[0m                                       \u001b[0my\u001b[0m\u001b[1;33m=\u001b[0m\u001b[0my_train\u001b[0m\u001b[1;33m,\u001b[0m\u001b[1;33m\u001b[0m\u001b[1;33m\u001b[0m\u001b[0m\n",
            "\u001b[1;31mIndexError\u001b[0m: list index out of range"
          ]
        }
      ],
      "source": [
        "# best_hp = tuner.get_best_hyperparameters()[0]\n",
        "# final_model = tuner.hypermodel.build(best_hp)\n",
        "\n",
        "# final_model_history = final_model.fit(x=X_train,\n",
        "#                                       y=y_train,\n",
        "#                                       validation_split=0.2,\n",
        "#                                       callbacks=[keras.callbacks.EarlyStopping(monitor='val_accuracy', patience=5)],\n",
        "#                                       epochs=50)"
      ]
    },
    {
      "cell_type": "code",
      "execution_count": 65,
      "metadata": {},
      "outputs": [
        {
          "data": {
            "text/plain": [
              "<matplotlib.image.AxesImage at 0x1d9db1ca0d0>"
            ]
          },
          "execution_count": 65,
          "metadata": {},
          "output_type": "execute_result"
        },
        {
          "data": {
            "image/png": "[encoded data removed]",
            "text/plain": [
              "<Figure size 640x480 with 1 Axes>"
            ]
          },
          "metadata": {},
          "output_type": "display_data"
        }
      ],
      "source": [
        "import matplotlib.pyplot as plt\n",
        "import seaborn as sns\n",
        "from skimage import io\n",
        "\n",
        "io.imshow(f'{TEST}/tes3.jpg')"
      ]
    },
    {
      "cell_type": "code",
      "execution_count": 99,
      "metadata": {
        "colab": {
          "base_uri": "https://localhost:8080/"
        },
        "id": "pFxoMIhpQvFV",
        "outputId": "43470eb1-722a-4bd1-e0da-6cf5577b7f07"
      },
      "outputs": [
        {
          "name": "stdout",
          "output_type": "stream",
          "text": [
            "1/1 [==============================] - 0s 34ms/step\n"
          ]
        },
        {
          "data": {
            "text/plain": [
              "array([0.47124454], dtype=float32)"
            ]
          },
          "execution_count": 99,
          "metadata": {},
          "output_type": "execute_result"
        }
      ],
      "source": [
        "#predict\n",
        "\n",
        "# subfolders = [\"happy\", \"sad\"]\n",
        "fiturtes = []  #glcm\n",
        "\n",
        "tes = cv2.imread(f\"{TEST}/tes5.jpg\", cv2.IMREAD_GRAYSCALE)\n",
        "fiturtes.append(glcm_feature(tes, props=properties))\n",
        "\n",
        "kolom = []\n",
        "sudut = ['0', '45', '90','135', '180']\n",
        "for prop in properties:\n",
        "    for x in sudut:\n",
        "        kolom.append(prop + \"_\" + x)\n",
        "\n",
        "tes_df = pd.DataFrame(fiturtes, columns=kolom)\n",
        "pd.set_option('display.max_columns', None)\n",
        "\n",
        "fitur_tes = tes_df.to_numpy()\n",
        "\n",
        "prediction = ann.predict(fitur_tes).flatten()\n",
        "\n",
        "prediction"
      ]
    },
    {
      "cell_type": "code",
      "execution_count": 64,
      "metadata": {
        "colab": {
          "base_uri": "https://localhost:8080/"
        },
        "id": "HeEFxt_PbSVC",
        "outputId": "a8b62222-b2ec-47bc-821d-fa34d4d598ac"
      },
      "outputs": [
        {
          "name": "stdout",
          "output_type": "stream",
          "text": [
            "Sad\n"
          ]
        }
      ],
      "source": [
        "threshold = 0.5  # Set the threshold value\n",
        "\n",
        "def cocok_text(prediction):\n",
        "  # Assuming 'prediction' is the decimal prediction value\n",
        "  if prediction >= threshold:\n",
        "      binary_prediction = 1  # Set binary prediction to 1\n",
        "      print(\"Happy\")\n",
        "  else:\n",
        "      binary_prediction = 0  # Set binary prediction to 0\n",
        "      print(\"Sad\")\n",
        "\n",
        "def cocok(prediction):\n",
        "  # Assuming 'prediction' is the decimal prediction value\n",
        "  if prediction >= threshold:\n",
        "      return 1  # Set binary prediction to 1\n",
        "  else:\n",
        "      return 0  # Set binary prediction to 0\n",
        "\n",
        "cocok_text(prediction)"
      ]
    },
    {
      "cell_type": "code",
      "execution_count": 95,
      "metadata": {
        "colab": {
          "base_uri": "https://localhost:8080/"
        },
        "id": "YETU5wZ6WBa6",
        "outputId": "100adf78-2ec6-46fb-a2ee-ec2262784ec8"
      },
      "outputs": [
        {
          "name": "stdout",
          "output_type": "stream",
          "text": [
            "19/19 [==============================] - 0s 944us/step\n",
            "1\n",
            "1\n",
            "0\n",
            "1\n",
            "1\n",
            "0\n",
            "1\n",
            "1\n",
            "1\n",
            "1\n",
            "0\n",
            "1\n",
            "0\n",
            "1\n",
            "1\n",
            "1\n",
            "1\n",
            "0\n",
            "1\n",
            "1\n",
            "0\n",
            "1\n",
            "0\n",
            "1\n",
            "0\n",
            "1\n",
            "1\n",
            "1\n",
            "1\n",
            "0\n",
            "0\n",
            "0\n",
            "0\n",
            "1\n",
            "1\n",
            "1\n",
            "0\n",
            "1\n",
            "1\n",
            "1\n",
            "0\n",
            "1\n",
            "1\n",
            "0\n",
            "1\n",
            "1\n",
            "0\n",
            "0\n",
            "0\n",
            "1\n",
            "0\n",
            "0\n",
            "0\n",
            "0\n",
            "0\n",
            "0\n",
            "0\n",
            "1\n",
            "1\n",
            "1\n",
            "0\n",
            "0\n",
            "0\n",
            "1\n",
            "1\n",
            "1\n",
            "0\n",
            "1\n",
            "0\n",
            "0\n",
            "1\n",
            "1\n",
            "0\n",
            "0\n",
            "1\n",
            "0\n",
            "0\n",
            "1\n",
            "1\n",
            "1\n",
            "1\n",
            "1\n",
            "1\n",
            "1\n",
            "1\n",
            "1\n",
            "1\n",
            "0\n",
            "0\n",
            "1\n",
            "0\n",
            "0\n",
            "0\n",
            "1\n",
            "1\n",
            "1\n",
            "0\n",
            "1\n",
            "0\n",
            "0\n",
            "1\n",
            "1\n",
            "1\n",
            "0\n",
            "1\n",
            "1\n",
            "1\n",
            "0\n",
            "0\n",
            "0\n",
            "1\n",
            "1\n",
            "0\n",
            "0\n",
            "1\n",
            "1\n",
            "0\n",
            "1\n",
            "1\n",
            "0\n",
            "0\n",
            "1\n",
            "1\n",
            "1\n",
            "1\n",
            "0\n",
            "1\n",
            "1\n",
            "1\n",
            "0\n",
            "1\n",
            "1\n",
            "1\n",
            "0\n",
            "1\n",
            "1\n",
            "1\n",
            "0\n",
            "1\n",
            "1\n",
            "1\n",
            "0\n",
            "1\n",
            "1\n",
            "1\n",
            "1\n",
            "0\n",
            "0\n",
            "1\n",
            "1\n",
            "1\n",
            "0\n",
            "1\n",
            "1\n",
            "1\n",
            "1\n",
            "0\n",
            "0\n",
            "1\n",
            "1\n",
            "0\n",
            "1\n",
            "0\n",
            "0\n",
            "1\n",
            "0\n",
            "0\n",
            "0\n",
            "1\n",
            "1\n",
            "0\n",
            "1\n",
            "1\n",
            "0\n",
            "1\n",
            "0\n",
            "1\n",
            "1\n",
            "0\n",
            "1\n",
            "0\n",
            "1\n",
            "0\n",
            "1\n",
            "1\n",
            "0\n",
            "1\n",
            "0\n",
            "1\n",
            "0\n",
            "0\n",
            "0\n",
            "1\n",
            "1\n",
            "1\n",
            "0\n",
            "0\n",
            "0\n",
            "1\n",
            "1\n",
            "0\n",
            "1\n",
            "0\n",
            "0\n",
            "0\n",
            "1\n",
            "1\n",
            "1\n",
            "0\n",
            "1\n",
            "0\n",
            "0\n",
            "1\n",
            "1\n",
            "0\n",
            "1\n",
            "0\n",
            "1\n",
            "0\n",
            "1\n",
            "1\n",
            "0\n",
            "0\n",
            "1\n",
            "1\n",
            "0\n",
            "0\n",
            "1\n",
            "0\n",
            "0\n",
            "0\n",
            "0\n",
            "0\n",
            "1\n",
            "1\n",
            "1\n",
            "0\n",
            "1\n",
            "1\n",
            "1\n",
            "0\n",
            "0\n",
            "1\n",
            "1\n",
            "1\n",
            "1\n",
            "1\n",
            "1\n",
            "1\n",
            "1\n",
            "1\n",
            "1\n",
            "0\n",
            "0\n",
            "0\n",
            "1\n",
            "0\n",
            "1\n",
            "0\n",
            "0\n",
            "0\n",
            "1\n",
            "0\n",
            "0\n",
            "1\n",
            "0\n",
            "0\n",
            "0\n",
            "1\n",
            "0\n",
            "1\n",
            "1\n",
            "1\n",
            "1\n",
            "0\n",
            "0\n",
            "1\n",
            "1\n",
            "0\n",
            "1\n",
            "1\n",
            "0\n",
            "1\n",
            "1\n",
            "1\n",
            "0\n",
            "1\n",
            "1\n",
            "1\n",
            "0\n",
            "1\n",
            "1\n",
            "1\n",
            "1\n",
            "0\n",
            "1\n",
            "0\n",
            "1\n",
            "1\n",
            "1\n",
            "1\n",
            "1\n",
            "0\n",
            "1\n",
            "0\n",
            "0\n",
            "1\n",
            "1\n",
            "0\n",
            "1\n",
            "0\n",
            "1\n",
            "1\n",
            "0\n",
            "0\n",
            "1\n",
            "1\n",
            "0\n",
            "0\n",
            "0\n",
            "1\n",
            "1\n",
            "1\n",
            "0\n",
            "1\n",
            "1\n",
            "1\n",
            "0\n",
            "0\n",
            "1\n",
            "0\n",
            "0\n",
            "0\n",
            "0\n",
            "1\n",
            "1\n",
            "1\n",
            "0\n",
            "0\n",
            "1\n",
            "1\n",
            "1\n",
            "1\n",
            "0\n",
            "0\n",
            "1\n",
            "1\n",
            "1\n",
            "1\n",
            "1\n",
            "0\n",
            "1\n",
            "1\n",
            "1\n",
            "1\n",
            "0\n",
            "1\n",
            "1\n",
            "1\n",
            "1\n",
            "1\n",
            "0\n",
            "0\n",
            "0\n",
            "1\n",
            "1\n",
            "1\n",
            "1\n",
            "0\n",
            "1\n",
            "0\n",
            "1\n",
            "0\n",
            "0\n",
            "1\n",
            "0\n",
            "1\n",
            "0\n",
            "1\n",
            "1\n",
            "1\n",
            "0\n",
            "1\n",
            "1\n",
            "1\n",
            "1\n",
            "1\n",
            "1\n",
            "1\n",
            "1\n",
            "0\n",
            "1\n",
            "1\n",
            "1\n",
            "1\n",
            "0\n",
            "1\n",
            "0\n",
            "1\n",
            "1\n",
            "0\n",
            "1\n",
            "0\n",
            "1\n",
            "0\n",
            "1\n",
            "0\n",
            "1\n",
            "0\n",
            "1\n",
            "0\n",
            "1\n",
            "1\n",
            "1\n",
            "1\n",
            "1\n",
            "1\n",
            "0\n",
            "0\n",
            "1\n",
            "0\n",
            "1\n",
            "1\n",
            "1\n",
            "1\n",
            "0\n",
            "1\n",
            "1\n",
            "1\n",
            "0\n",
            "1\n",
            "1\n",
            "0\n",
            "1\n",
            "1\n",
            "0\n",
            "1\n",
            "0\n",
            "1\n",
            "1\n",
            "0\n",
            "1\n",
            "1\n",
            "1\n",
            "1\n",
            "0\n",
            "1\n",
            "0\n",
            "1\n",
            "1\n",
            "1\n",
            "1\n",
            "0\n",
            "1\n",
            "0\n",
            "1\n",
            "1\n",
            "1\n",
            "1\n",
            "1\n",
            "1\n",
            "0\n",
            "1\n",
            "0\n",
            "1\n",
            "1\n",
            "0\n",
            "1\n",
            "1\n",
            "1\n",
            "1\n",
            "1\n",
            "1\n",
            "1\n",
            "1\n",
            "1\n",
            "0\n",
            "1\n",
            "1\n",
            "1\n",
            "0\n",
            "0\n",
            "0\n",
            "1\n",
            "1\n",
            "0\n",
            "0\n",
            "0\n",
            "0\n",
            "1\n",
            "1\n",
            "1\n",
            "1\n",
            "1\n",
            "1\n",
            "1\n",
            "0\n",
            "0\n",
            "0\n",
            "1\n",
            "0\n",
            "1\n",
            "1\n",
            "1\n",
            "1\n",
            "1\n",
            "0\n",
            "1\n",
            "0\n",
            "1\n",
            "1\n",
            "0\n",
            "0\n",
            "0\n",
            "0\n",
            "1\n",
            "0\n",
            "1\n",
            "1\n",
            "1\n",
            "0\n",
            "0\n",
            "1\n",
            "0\n",
            "0\n",
            "0\n",
            "1\n",
            "0\n",
            "0\n",
            "1\n",
            "1\n",
            "1\n",
            "0\n",
            "0\n",
            "0\n",
            "1\n",
            "1\n",
            "1\n",
            "0\n",
            "1\n",
            "0\n",
            "1\n",
            "1\n",
            "1\n",
            "1\n",
            "1\n",
            "1\n",
            "0\n",
            "0\n",
            "0\n",
            "1\n",
            "1\n",
            "1\n",
            "0\n",
            "0\n",
            "1\n",
            "1\n",
            "0\n",
            "1\n",
            "1\n",
            "1\n",
            "1\n",
            "1\n",
            "1\n",
            "1\n",
            "1\n",
            "1\n",
            "0\n",
            "0\n",
            "1\n",
            "0\n",
            "0\n",
            "1\n",
            "0\n",
            "1\n",
            "0\n",
            "0\n",
            "1\n",
            "1\n",
            "1\n",
            "0\n",
            "1\n",
            "1\n",
            "0\n",
            "0\n",
            "1\n",
            "1\n",
            "0\n",
            "1\n",
            "0\n",
            "1\n",
            "1\n",
            "0\n",
            "1\n",
            "1\n",
            "0\n",
            "1\n",
            "1\n",
            "1\n",
            "0\n"
          ]
        }
      ],
      "source": [
        "for x in ann.predict(X_test):\n",
        "  for y in x:\n",
        "    print(cocok(y))"
      ]
    },
    {
      "cell_type": "code",
      "execution_count": null,
      "metadata": {
        "colab": {
          "base_uri": "https://localhost:8080/"
        },
        "id": "T5nPitp7aJeB",
        "outputId": "d7cf3d7f-42ac-4fb6-efea-42ae73a09a03"
      },
      "outputs": [
        {
          "data": {
            "text/plain": [
              "array([0, 0, 1, 0, 0, 1, 0, 0, 0, 1, 0, 0, 0, 0, 1, 1, 1, 1, 0, 1, 0, 1,\n",
              "       1, 1, 1, 1, 1, 1, 0, 1, 1, 1, 1, 1, 1, 1, 0, 1, 1, 1, 1, 0, 0, 1,\n",
              "       0, 0, 1, 1, 1, 0, 0, 0, 1, 0, 0, 1, 1, 0, 0, 1, 0, 0, 1, 0, 0, 0,\n",
              "       1, 1, 1, 0, 0, 0, 1, 0, 0, 0, 1, 1, 0, 1, 0, 0, 0, 1, 0, 1, 1, 1,\n",
              "       0, 1, 0, 1, 0, 1, 1, 1, 0, 1, 0, 1, 1, 0, 1, 1, 1, 0, 1, 0, 0, 0,\n",
              "       1, 0, 1, 1, 1, 1, 0, 1, 1, 0, 0, 0, 0, 1, 0, 1, 1, 1, 1, 1, 1, 0,\n",
              "       1, 0, 0, 1, 0, 1, 1, 1, 0, 0, 0, 1, 0, 1, 1, 1, 0, 0, 1, 0, 0, 0,\n",
              "       0, 0, 1, 1, 0, 0, 1, 0, 1, 1, 1, 0, 0, 0, 0, 0, 1, 1, 1, 1, 1, 1,\n",
              "       1, 1, 1, 0, 0, 1, 1, 0, 1, 0, 1, 0, 0, 0, 0, 1, 1, 0, 1, 0, 1, 0])"
            ]
          },
          "execution_count": 21,
          "metadata": {},
          "output_type": "execute_result"
        }
      ],
      "source": [
        "y_test"
      ]
    },
    {
      "cell_type": "code",
      "execution_count": 100,
      "metadata": {
        "colab": {
          "base_uri": "https://localhost:8080/"
        },
        "id": "4clu8qW_P_Jy",
        "outputId": "84873619-7a0c-4433-bd1a-1172a8568952"
      },
      "outputs": [
        {
          "data": {
            "text/plain": [
              "['model_rangga.joblib']"
            ]
          },
          "execution_count": 100,
          "metadata": {},
          "output_type": "execute_result"
        }
      ],
      "source": [
        "import joblib\n",
        "\n",
        "joblib.dump(ann ,'model_rangga.joblib')"
      ]
    },
    {
      "attachments": {},
      "cell_type": "markdown",
      "metadata": {
        "id": "db3TIX9CPppI"
      },
      "source": []
    },
    {
      "cell_type": "code",
      "execution_count": null,
      "metadata": {
        "id": "7vUAiNaRTkGk"
      },
      "outputs": [
        {
          "name": "stdout",
          "output_type": "stream",
          "text": [
            "Keras weights file (<HDF5 file \"variables.h5\" (mode r+)>) saving:\n",
            "...layers\\dense\n",
            "......vars\n",
            ".........0\n",
            ".........1\n",
            "...layers\\dense_1\n",
            "......vars\n",
            ".........0\n",
            ".........1\n",
            "...layers\\dense_2\n",
            "......vars\n",
            ".........0\n",
            ".........1\n",
            "...layers\\dense_3\n",
            "......vars\n",
            ".........0\n",
            ".........1\n",
            "...metrics\\mean\n",
            "......vars\n",
            ".........0\n",
            ".........1\n",
            "...metrics\\mean_metric_wrapper\n",
            "......vars\n",
            ".........0\n",
            ".........1\n",
            "...optimizer\n",
            "......vars\n",
            ".........0\n",
            ".........1\n",
            ".........10\n",
            ".........11\n",
            ".........12\n",
            ".........13\n",
            ".........14\n",
            ".........15\n",
            ".........16\n",
            ".........2\n",
            ".........3\n",
            ".........4\n",
            ".........5\n",
            ".........6\n",
            ".........7\n",
            ".........8\n",
            ".........9\n",
            "...vars\n",
            "Keras model archive saving:\n",
            "File Name                                             Modified             Size\n",
            "config.json                                    2023-07-03 14:17:20         2288\n",
            "metadata.json                                  2023-07-03 14:17:20           64\n",
            "variables.h5                                   2023-07-03 14:17:20       251312\n"
          ]
        }
      ],
      "source": [
        "import pickle\n",
        "\n",
        "pickle.dump(ann, open('model_rangga.pkl', 'wb'))"
      ]
    }
  ],
  "metadata": {
    "colab": {
      "provenance": []
    },
    "kernelspec": {
      "display_name": "Python 3",
      "name": "python3"
    },
    "language_info": {
      "codemirror_mode": {
        "name": "ipython",
        "version": 3
      },
      "file_extension": ".py",
      "mimetype": "text/x-python",
      "name": "python",
      "nbconvert_exporter": "python",
      "pygments_lexer": "ipython3",
      "version": "3.11.4"
    }
  },
  "nbformat": 4,
  "nbformat_minor": 0
}
